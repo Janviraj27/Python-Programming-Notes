{
 "cells": [
  {
   "cell_type": "markdown",
   "id": "c35e6f3f-9aef-44f9-aabf-0038de032efd",
   "metadata": {},
   "source": [
    "Operators :\n",
    "-------"
   ]
  },
  {
   "cell_type": "markdown",
   "id": "d5f9badd-1981-4829-845d-2fa2350df8b9",
   "metadata": {},
   "source": [
    "Operators are used to perform operation on variables and values."
   ]
  },
  {
   "cell_type": "markdown",
   "id": "3a8a0b01-13ec-4999-94b6-88bfcd8758ac",
   "metadata": {},
   "source": [
    "1. Arithmetic Operators.\n",
    "2. Assignment Operators.\n",
    "3. comparison Operators.\n",
    "4. Logical Operators.\n",
    "5. Identity Operators.\n",
    "6. Membership Operators."
   ]
  },
  {
   "cell_type": "markdown",
   "id": "9abdf0b0-f31f-4be7-a5b1-8389e09b3d0e",
   "metadata": {},
   "source": [
    "1.Arithmetic Operators : \n",
    "---------"
   ]
  },
  {
   "cell_type": "markdown",
   "id": "2ce504ba-a898-4339-b802-d44a44645582",
   "metadata": {},
   "source": [
    "| Operator |         Name        |   Example   |\t\n",
    "|----------|---------------------|-------------|\n",
    "|    +\t   |    Addition         |    x + y    |\n",
    "|    -\t   |    Subtraction      |\t  x - y\t   |\n",
    "|    *\t   |    Multiplication\t |    x * y\t   |\n",
    "|    /     |    Division\t     |    x / y    |\t\n",
    "|    %     |    Modulus\t         |    x % y\t   |\n",
    "|   **     |    Exponentiation\t |    x ** y   | \t\n",
    "|   //     |    Floor division\t |    x // y   |\n"
   ]
  },
  {
   "cell_type": "markdown",
   "id": "850f9c2d-ecbc-461d-bf6b-d4580ed98984",
   "metadata": {},
   "source": [
    "2.Assignment operators\n",
    "--"
   ]
  },
  {
   "cell_type": "markdown",
   "id": "5e712bf7-fce5-49ef-9d2d-e5e40eb3cb25",
   "metadata": {},
   "source": [
    "|    Operator    |         Example         |      Same As       |  \n",
    "|----------------|-------------------------|--------------------|  \n",
    "|      =         |        x = 5\t           |      x = 5         | \t\n",
    "|      +=        |        x += 3\t       |      x = x + 3     | \t\n",
    "|      -=        |\t      x -= 3           |\t  x = x - 3   \t|\n",
    "|      *=        |\t      x *= 3           |      x = x * 3\t    |\n",
    "|      /=        |\t      x /= 3           |\t  x = x / 3     |\t\n",
    "|      %=        |\t      x %= 3           |      x = x % 3     |\t\n",
    "|      //=\t     |        x //= 3\t       |      x = x // 3    |\n",
    "|      **=\t     |        x **= 3\t       |      x = x ** 3    |\n",
    "|      &=        | \t      x &= 3\t       |      x = x & 3\t    |\n",
    "|      \\|=\t     |        x \\|= 3\t       |     x = x \\| 3     |\n",
    "|      ^=\t     |        x ^= 3\t       |      x = x ^ 3\t    |\n",
    "|      >>=\t     |        x >>= 3          |\t  x = x >> 3    |\t\n",
    "|      <<=\t     |        x <<= 3\t       |      x = x << 3    |\n",
    "|      :=\t     |        print(x := 3)    |\t  x = 3         |\n",
    "|                |                         |      print(x)      |"
   ]
  },
  {
   "cell_type": "markdown",
   "id": "7fb8a99c-1615-4d3f-842c-ed8ed0349398",
   "metadata": {},
   "source": [
    "3.Comparison operators\n",
    "--------"
   ]
  },
  {
   "cell_type": "markdown",
   "id": "5db7f9ff-7608-4291-a6bb-80f8b43df0b6",
   "metadata": {},
   "source": [
    "|    Operator    |\t              Name                  |\t     Example       |\t\n",
    "|----------------|--------------------------------------|----------------------|\n",
    "|      ==\t     |         Equal\t                    |        x == y        |\t\n",
    "|      !=\t     |         Not equal\t                |        x != y\t       |\n",
    "|      >\t     |         Greater than\t                |        x > y         |\n",
    "|      <\t     |         Less than\t                |        x < y\t       |\n",
    "|      >=\t     |         Greater than or equal to\t    |        x >= y\t       |\n",
    "|      <=\t     |         Less than or equal to\t    |        x <= y        |"
   ]
  },
  {
   "cell_type": "markdown",
   "id": "b999fdf5-ef92-4a0a-bb78-ed554ffe0ff8",
   "metadata": {},
   "source": [
    "4.Logical operators\n",
    "------"
   ]
  },
  {
   "cell_type": "markdown",
   "id": "71eb5207-f40b-482d-98a9-8f82c6e003ef",
   "metadata": {},
   "source": [
    "|    Operator   |    \t                 Description\t                      |         Example         |\n",
    "|---------------|-------------------------------------------------------------|-------------------------|\n",
    "|      and \t    | Returns True if both statements are true                    |   x < 5 and  x < 10     |\t \n",
    "|      or\t    | Returns True if one of the statements is true               |   x < 5 or x < 4\t    |\n",
    "|      not\t    | Reverse the result, returns False if the result is true\t  |   not(x < 5 and x < 10)\t|\n"
   ]
  },
  {
   "cell_type": "markdown",
   "id": "8a303b7f-277f-4e29-814a-02f38c0831f8",
   "metadata": {},
   "source": [
    "5.Identity operators\n",
    "---"
   ]
  },
  {
   "cell_type": "markdown",
   "id": "5ee9bc9a-20a1-4538-9274-fdf31e6534fb",
   "metadata": {},
   "source": [
    "|      Operator\t    |                     Description                         |    Example\t    |\n",
    "|-------------------|---------------------------------------------------------|-----------------|\n",
    "|        is \t    | Returns True if both variables are the same object\t  |     x is y\t    |\n",
    "|        is not\t    | Returns True if both variables are not the same object  |  \tx is not y  |\t\n"
   ]
  },
  {
   "cell_type": "markdown",
   "id": "d4a8ff5e-5fd9-4d79-9257-89a60018310e",
   "metadata": {},
   "source": [
    "6.Membership operators\n",
    "------"
   ]
  },
  {
   "cell_type": "markdown",
   "id": "58ee1645-b085-4503-b774-c05b85d1542a",
   "metadata": {},
   "source": [
    "|      Operator\t    |                                      Description                                 |    Example\t     |\n",
    "|-------------------|----------------------------------------------------------------------------------|-----------------|\n",
    "|       in \t        | Returns True if a sequence with the specified value is present in the object     |    x in y\t     |\n",
    "|       not in\t    | Returns True if a sequence with the specified value is not present in the object |    x not        |"
   ]
  },
  {
   "cell_type": "markdown",
   "id": "375743b0-1732-4604-9608-8c6af3d35cb2",
   "metadata": {},
   "source": [
    "7.Bitwise operators\n",
    "------"
   ]
  },
  {
   "cell_type": "markdown",
   "id": "1d1ac362-9c1b-4dbf-ae7c-2261499d60ca",
   "metadata": {},
   "source": [
    "| Operator |     \tName          |                                     \tDescription                                                      | Example|\n",
    "|----------|----------------------|----------------------------------------------------------------------------------------------------------|--------|\n",
    "|    &     |        AND\t          |       Sets each bit to 1 if both bits are 1\t                                                             |  x & y |\n",
    "|    |     |\t    OR\t          |      Sets each bit to 1 if one of two bits is 1\t                                                         |  x | y |\t\n",
    "|    ^\t   |        XOR\t          |     Sets each bit to 1 if only one of two bits is 1\t                                                     |  x ^ y |\t\n",
    "|    ~\t   |        OT            |      \tInverts all the bits\t                                                                         |   ~x\t  |\n",
    "|    <<\t   | Zero fill left shift |\tShift left by pushing zeros in from the right and let the leftmost bits fall off                         | x << 2 | \n",
    "|    >>\t   | Signed right shift\t  | Shift right by pushing copies of the leftmost bit in from the left, and let the rightmost bits fall off  | x >> 2 |"
   ]
  },
  {
   "cell_type": "code",
   "execution_count": null,
   "id": "bdffa731-7e66-403d-a11c-d60a32d184f5",
   "metadata": {},
   "outputs": [],
   "source": []
  }
 ],
 "metadata": {
  "kernelspec": {
   "display_name": "Python 3 (ipykernel)",
   "language": "python",
   "name": "python3"
  },
  "language_info": {
   "codemirror_mode": {
    "name": "ipython",
    "version": 3
   },
   "file_extension": ".py",
   "mimetype": "text/x-python",
   "name": "python",
   "nbconvert_exporter": "python",
   "pygments_lexer": "ipython3",
   "version": "3.12.3"
  }
 },
 "nbformat": 4,
 "nbformat_minor": 5
}
