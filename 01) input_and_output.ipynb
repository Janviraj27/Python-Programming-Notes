{
 "cells": [
  {
   "cell_type": "markdown",
   "id": "072575b1-a068-45ae-be10-0da6827bdf5c",
   "metadata": {},
   "source": [
    "## Advantages of Python \n",
    "--------------------"
   ]
  },
  {
   "cell_type": "markdown",
   "id": "00b91328-9bf1-460c-8379-4732947a667a",
   "metadata": {},
   "source": [
    "1. Readability and Simplicity\n",
    "2. Versatility and Partability\n",
    "3. Rich Ecosystem and Libraries\n",
    "4. Interperted and Interactive\n",
    "5. Community and Support\n",
    "6. Scalability\n",
    "7. Integration Capabilities\n",
    "8. pen Source and Free "
   ]
  },
  {
   "cell_type": "markdown",
   "id": "bd49aab3-10d5-4fb1-8d12-844e524d86b6",
   "metadata": {},
   "source": [
    "Input :\n",
    "-------"
   ]
  },
  {
   "cell_type": "markdown",
   "id": "e657461d-fca4-4a19-a1a6-0daa7eb65d00",
   "metadata": {},
   "source": [
    "The input() function in python is used to take input from the users and by default, it returens the user input in the from of a string.\n"
   ]
  },
  {
   "cell_type": "markdown",
   "id": "4d1f9603-8772-45f9-a856-963a37d982d9",
   "metadata": {},
   "source": [
    "* Syntax :\n",
    "   * input(prompt)"
   ]
  },
  {
   "cell_type": "markdown",
   "id": "156f08ae-7f28-48a3-b455-785a6f3a3159",
   "metadata": {},
   "source": [
    "Example :"
   ]
  },
  {
   "cell_type": "code",
   "execution_count": 13,
   "id": "a0a74d1e-7589-40d4-abf2-b767e55958fd",
   "metadata": {},
   "outputs": [
    {
     "name": "stdin",
     "output_type": "stream",
     "text": [
      "Enter your name:  Purvraj\n"
     ]
    }
   ],
   "source": [
    "# Single input\n",
    "name = input(\"Enter your name: \")"
   ]
  },
  {
   "cell_type": "code",
   "execution_count": 14,
   "id": "fe9c52ba-def3-45a4-8bce-893a7052d1cb",
   "metadata": {},
   "outputs": [
    {
     "name": "stdout",
     "output_type": "stream",
     "text": [
      "Purvraj\n"
     ]
    }
   ],
   "source": [
    "print(name)"
   ]
  },
  {
   "cell_type": "code",
   "execution_count": 15,
   "id": "bd92058c-d24b-4287-a67c-144a094f052d",
   "metadata": {},
   "outputs": [
    {
     "name": "stdin",
     "output_type": "stream",
     "text": [
      "Enter your name:  Purvraj\n"
     ]
    },
    {
     "name": "stdout",
     "output_type": "stream",
     "text": [
      "hello Purvraj\n"
     ]
    }
   ],
   "source": [
    "name = input(\"Enter your name: \")\n",
    "print(\"hello\",name)"
   ]
  },
  {
   "cell_type": "code",
   "execution_count": 20,
   "id": "ea055ced-6558-428c-b214-47d793a11614",
   "metadata": {},
   "outputs": [
    {
     "name": "stdin",
     "output_type": "stream",
     "text": [
      "Enter your name and age:  Purvraj 7\n"
     ]
    }
   ],
   "source": [
    "# Multiple inputs\n",
    "name,age = input(\"Enter your name and age: \").split()"
   ]
  },
  {
   "cell_type": "code",
   "execution_count": 21,
   "id": "723b436c-ff53-4778-9087-de62ad5bff09",
   "metadata": {},
   "outputs": [
    {
     "name": "stdout",
     "output_type": "stream",
     "text": [
      "Purvraj 7\n"
     ]
    }
   ],
   "source": [
    "print(name,age)"
   ]
  },
  {
   "cell_type": "code",
   "execution_count": 22,
   "id": "0ecda52c-e2c2-44d9-8f09-c72b4f4a3637",
   "metadata": {},
   "outputs": [
    {
     "name": "stdin",
     "output_type": "stream",
     "text": [
      "Enter your name and age:  Parvraj 7 Janvi 20 \n"
     ]
    },
    {
     "name": "stdout",
     "output_type": "stream",
     "text": [
      "['Parvraj', '7', 'Janvi', '20']\n"
     ]
    }
   ],
   "source": [
    "students=input(\"Enter your name and age: \").split()\n",
    "print(students)"
   ]
  },
  {
   "cell_type": "code",
   "execution_count": 23,
   "id": "62a1c798-cb13-4a39-9933-a13c066c4a4e",
   "metadata": {},
   "outputs": [
    {
     "name": "stdin",
     "output_type": "stream",
     "text": [
      "Enter your name:  \n"
     ]
    }
   ],
   "source": [
    "# Default value\n",
    "name = input(\"Enter your name: \") or (\"NULL\")"
   ]
  },
  {
   "cell_type": "code",
   "execution_count": 24,
   "id": "0d0e12a2-0205-4873-ba41-31ebae03e769",
   "metadata": {},
   "outputs": [
    {
     "name": "stdout",
     "output_type": "stream",
     "text": [
      "NULL\n"
     ]
    }
   ],
   "source": [
    "print(name)"
   ]
  },
  {
   "cell_type": "markdown",
   "id": "33544138-6816-4210-9531-e145133dae97",
   "metadata": {},
   "source": [
    "Output :\n",
    "---------"
   ]
  },
  {
   "cell_type": "markdown",
   "id": "ea23f164-4b95-4e9b-acb2-4cfdda1c8402",
   "metadata": {},
   "source": [
    "The output Function in python is the print() function. The print() function displays the string enclosed inside the Single or Double quotation."
   ]
  },
  {
   "cell_type": "markdown",
   "id": "7a17f698-d1a0-4ece-8b24-faf343797d44",
   "metadata": {},
   "source": [
    "Example:"
   ]
  },
  {
   "cell_type": "code",
   "execution_count": 16,
   "id": "7d611ccd-40f2-40c3-b309-f4b9915b788f",
   "metadata": {},
   "outputs": [
    {
     "name": "stdout",
     "output_type": "stream",
     "text": [
      "Hello\n"
     ]
    }
   ],
   "source": [
    "print(\"Hello\")"
   ]
  },
  {
   "cell_type": "markdown",
   "id": "ff0a087a-6cab-4f6a-a163-aa4999406bdb",
   "metadata": {},
   "source": [
    "end Argument :\n",
    "-------------"
   ]
  },
  {
   "cell_type": "markdown",
   "id": "e47fa28b-af79-4385-af58-71cc05472104",
   "metadata": {},
   "source": [
    "The end argument in the print() function in python is used to specify the character or string that will be printed at the end of the output."
   ]
  },
  {
   "cell_type": "markdown",
   "id": "fedd81da-2135-412a-ab89-64a2361d4d50",
   "metadata": {},
   "source": [
    "Example:"
   ]
  },
  {
   "cell_type": "code",
   "execution_count": 18,
   "id": "e47a7e16-c0f7-4f3e-ae17-19f6d836bef0",
   "metadata": {},
   "outputs": [
    {
     "name": "stdout",
     "output_type": "stream",
     "text": [
      "Hello, World!\n"
     ]
    }
   ],
   "source": [
    "print(\"Hello,\", end=\" \")\n",
    "print(\"World!\")"
   ]
  },
  {
   "cell_type": "code",
   "execution_count": 19,
   "id": "8b2fff82-cece-4a00-840b-3bc8844fff29",
   "metadata": {},
   "outputs": [
    {
     "name": "stdout",
     "output_type": "stream",
     "text": [
      "Hello,\n",
      "World!\n"
     ]
    }
   ],
   "source": [
    "print(\"Hello,\", end=\"\\n\")\n",
    "print(\"World!\")"
   ]
  },
  {
   "cell_type": "code",
   "execution_count": 20,
   "id": "f6a627ca-8346-4d5e-952b-7bf24295d598",
   "metadata": {},
   "outputs": [
    {
     "name": "stdout",
     "output_type": "stream",
     "text": [
      "Hello,\tWorld!\n"
     ]
    }
   ],
   "source": [
    "print(\"Hello,\", end=\"\\t\")\n",
    "print(\"World!\")"
   ]
  },
  {
   "cell_type": "markdown",
   "id": "2415d1d8-8738-453d-8e0e-e874d57e0b94",
   "metadata": {},
   "source": [
    "sep Argument :\n",
    "--------"
   ]
  },
  {
   "cell_type": "markdown",
   "id": "e874ccd5-5513-49c4-a113-c8df24d03282",
   "metadata": {},
   "source": [
    "The sep argument in python is used to specify the separeator between the values being in python. By default, it is set to a space character, but you can customize it.  "
   ]
  },
  {
   "cell_type": "markdown",
   "id": "b9ea9c9a-8d0b-447b-830d-763bb3a72588",
   "metadata": {},
   "source": [
    "Example:"
   ]
  },
  {
   "cell_type": "code",
   "execution_count": 21,
   "id": "99179eee-e35d-4054-a185-634efdb1000c",
   "metadata": {},
   "outputs": [
    {
     "name": "stdout",
     "output_type": "stream",
     "text": [
      "Apple, Banana, Orange, Mango\n"
     ]
    }
   ],
   "source": [
    "print(\"Apple\",\"Banana\",\"Orange\",\"Mango\", sep=\", \")"
   ]
  },
  {
   "cell_type": "code",
   "execution_count": 22,
   "id": "8f991daa-ad7d-4fb6-9ab1-ca2f1e9dd9fd",
   "metadata": {},
   "outputs": [
    {
     "name": "stdout",
     "output_type": "stream",
     "text": [
      "1, 2, 3, 4\n"
     ]
    }
   ],
   "source": [
    "print(\"1\",\"2\",\"3\",\"4\", sep=\", \")"
   ]
  },
  {
   "cell_type": "code",
   "execution_count": 23,
   "id": "0410fcaa-08be-4b54-a9d7-8f2524158765",
   "metadata": {},
   "outputs": [
    {
     "name": "stdout",
     "output_type": "stream",
     "text": [
      "My name is janvi and My friend name is kenvi.\n"
     ]
    }
   ],
   "source": [
    "# f string\n",
    "my_name = \"janvi\"\n",
    "frd_name = \"kenvi\"\n",
    "print(f\"My name is {my_name} and My friend name is {frd_name}.\")"
   ]
  },
  {
   "cell_type": "code",
   "execution_count": null,
   "id": "fb860433-3e31-4ad5-9fce-5b024235112b",
   "metadata": {},
   "outputs": [],
   "source": []
  }
 ],
 "metadata": {
  "kernelspec": {
   "display_name": "Python 3 (ipykernel)",
   "language": "python",
   "name": "python3"
  },
  "language_info": {
   "codemirror_mode": {
    "name": "ipython",
    "version": 3
   },
   "file_extension": ".py",
   "mimetype": "text/x-python",
   "name": "python",
   "nbconvert_exporter": "python",
   "pygments_lexer": "ipython3",
   "version": "3.12.3"
  }
 },
 "nbformat": 4,
 "nbformat_minor": 5
}
