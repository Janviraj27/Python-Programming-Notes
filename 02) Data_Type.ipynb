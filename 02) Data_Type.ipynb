{
 "cells": [
  {
   "cell_type": "markdown",
   "id": "dbdb91a9-67a8-49d0-a3c2-b9a172fd87d2",
   "metadata": {},
   "source": [
    "## Data Types \n",
    "--------"
   ]
  },
  {
   "cell_type": "markdown",
   "id": "3ab81b5a-6496-4062-b4af-2212bcd1e138",
   "metadata": {},
   "source": [
    "* python Data Type are used to define the type of a variable. It defines what type of data we are going to store in a variable. The data stored in memory can be of many types.                      "
   ]
  },
  {
   "cell_type": "markdown",
   "id": "45d6e8b5-91c3-4b84-9b0d-e9eb1fd3377d",
   "metadata": {},
   "source": [
    "* Python Data Types are used to define the type of a variable. It defines what type of data we are going to store in a variable. The data stored in memory can be of many types.\n",
    "                              "
   ]
  },
  {
   "cell_type": "markdown",
   "id": "a3dbb54b-6498-4066-b5f9-1404482fb310",
   "metadata": {},
   "source": [
    "Primitive and Non-Primitive Data Types \n",
    "---"
   ]
  },
  {
   "cell_type": "markdown",
   "id": "a6b3c3d7-c38d-44f0-aef3-8dfb5bd5144a",
   "metadata": {},
   "source": [
    "1.Primitive Data Types \n",
    "----"
   ]
  },
  {
   "cell_type": "markdown",
   "id": "6fdc4262-3bc9-443f-917b-8dcbb07c852b",
   "metadata": {},
   "source": [
    "* Primitive data types are basic data types that are predefined by the programming language and are not composed of other data types.\n",
    "* They are usually simple, atomic values with no internal structure.\n",
    "* Examples in Python include integers (int), floating-point numbers (float), complex numbers (complex), boolean values (bool), and the null value (None).\n",
    "* These types are used to store simple values directly, without any additional processing or interpretation."
   ]
  },
  {
   "cell_type": "markdown",
   "id": "09074778-cfa1-4e9d-a050-c7874cc45174",
   "metadata": {},
   "source": [
    "2.Non-Primitive Data Types \n",
    "-----"
   ]
  },
  {
   "cell_type": "markdown",
   "id": "297191a5-2c18-45a9-a890-5aed2471b0ee",
   "metadata": {},
   "source": [
    "* Non-primitive data types are more complex data types that are composed of primitive data types or other non-primitive data types.\n",
    "* They are often used to represent more complex structures or collections of data.\n",
    "* Examples in Python include strings (str), lists (list), tuples (tuple), dictionaries (dict), and sets (set).\n",
    "* These types can store multiple values or elements and may have methods or operations defined on them for manipulation and processing."
   ]
  },
  {
   "cell_type": "markdown",
   "id": "3c8e6d8e-4fec-4e9e-b3d8-b8ec1785a805",
   "metadata": {},
   "source": [
    "1.Primitive Data Types\n",
    "\n",
    "* Numeric Types:\n",
    "    1. int: Integers, e.g., 10, -5, 1000.\n",
    "    2. float: Floating-point numbers, e.g., 3.14, -0.001, 2.0.\n",
    "    3. complex: Complex numbers, e.g., 1+2j, 3-4j.\n",
    "       \n",
    "* Boolean Type:\n",
    "\n",
    "    4. bool: Boolean values, True or False.\n",
    "       \n",
    "* None Type:\n",
    "\n",
    "    5. None: Represents the absence of a value or a null value.\n",
    "       \n",
    "* String Type:\n",
    "\n",
    "    6. str: Strings, e.g., 'hello', 'Python', '123'."
   ]
  },
  {
   "cell_type": "markdown",
   "id": "0e05a3c7-ec88-411a-a779-55cf2501d4a7",
   "metadata": {},
   "source": [
    "2.Non-Primitive Data Types\n",
    "\n",
    "* Sequence Types:\n",
    "\n",
    "    1. list: Lists, e.g., [1, 2, 3], ['a', 'b', 'c'].\n",
    "    2. tuple: Tuples, e.g., (1, 2, 3), ('a', 'b', 'c').\n",
    "* Mapping Type:\n",
    "\n",
    "    3. dict: Dictionaries, e.g., {'key1': 'value1', 'key2': 'value2'}.\n",
    "* Set Types:\n",
    "\n",
    "    4. set: Sets, e.g., {1, 2, 3}, { 'a', 'b', 'c' }."
   ]
  },
  {
   "cell_type": "code",
   "execution_count": null,
   "id": "99141cfc-f5b4-4e77-b7f6-0af3ac9d3c60",
   "metadata": {},
   "outputs": [],
   "source": []
  }
 ],
 "metadata": {
  "kernelspec": {
   "display_name": "Python 3 (ipykernel)",
   "language": "python",
   "name": "python3"
  },
  "language_info": {
   "codemirror_mode": {
    "name": "ipython",
    "version": 3
   },
   "file_extension": ".py",
   "mimetype": "text/x-python",
   "name": "python",
   "nbconvert_exporter": "python",
   "pygments_lexer": "ipython3",
   "version": "3.12.3"
  }
 },
 "nbformat": 4,
 "nbformat_minor": 5
}
